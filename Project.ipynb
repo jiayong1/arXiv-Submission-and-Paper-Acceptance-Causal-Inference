{
 "cells": [
  {
   "cell_type": "code",
   "execution_count": 51,
   "metadata": {},
   "outputs": [],
   "source": [
    "import numpy as np\n",
    "import pandas as pd\n",
    "import logging\n",
    "import networkx as nx\n",
    "import dowhy\n",
    "from dowhy import CausalModel\n",
    "import dowhy.datasets\n"
   ]
  },
  {
   "cell_type": "code",
   "execution_count": 52,
   "metadata": {},
   "outputs": [],
   "source": [
    "#convert csv to pandas\n",
    "path = \"./Scraped_Data.csv\"\n",
    "df = pd.read_csv(path)\n"
   ]
  },
  {
   "cell_type": "code",
   "execution_count": 58,
   "metadata": {},
   "outputs": [],
   "source": [
    "dfcopy = df.loc[:, ['random_rating','accepted','submitted_arxiv','avg_h_index']]\n",
    "\n",
    "dfcopy = dfcopy[dfcopy.accepted != 'wp']\n",
    "\n",
    "dfcopy[\"submitted_arxiv\"] = dfcopy[\"submitted_arxiv\"].astype(bool)\n",
    "dfcopy.loc[dfcopy.accepted == 'a','accepted'] = True\n",
    "dfcopy.loc[dfcopy.accepted == 'ap','accepted'] = True\n",
    "dfcopy.loc[dfcopy.accepted == 'r','accepted'] = False\n"
   ]
  },
  {
   "cell_type": "code",
   "execution_count": 59,
   "metadata": {},
   "outputs": [
    {
     "data": {
      "text/html": [
       "<div>\n",
       "<style scoped>\n",
       "    .dataframe tbody tr th:only-of-type {\n",
       "        vertical-align: middle;\n",
       "    }\n",
       "\n",
       "    .dataframe tbody tr th {\n",
       "        vertical-align: top;\n",
       "    }\n",
       "\n",
       "    .dataframe thead th {\n",
       "        text-align: right;\n",
       "    }\n",
       "</style>\n",
       "<table border=\"1\" class=\"dataframe\">\n",
       "  <thead>\n",
       "    <tr style=\"text-align: right;\">\n",
       "      <th></th>\n",
       "      <th>random_rating</th>\n",
       "      <th>accepted</th>\n",
       "      <th>submitted_arxiv</th>\n",
       "      <th>avg_h_index</th>\n",
       "    </tr>\n",
       "  </thead>\n",
       "  <tbody>\n",
       "    <tr>\n",
       "      <th>0</th>\n",
       "      <td>9</td>\n",
       "      <td>True</td>\n",
       "      <td>True</td>\n",
       "      <td>19</td>\n",
       "    </tr>\n",
       "    <tr>\n",
       "      <th>1</th>\n",
       "      <td>4</td>\n",
       "      <td>False</td>\n",
       "      <td>False</td>\n",
       "      <td>10</td>\n",
       "    </tr>\n",
       "    <tr>\n",
       "      <th>2</th>\n",
       "      <td>6</td>\n",
       "      <td>True</td>\n",
       "      <td>True</td>\n",
       "      <td>20</td>\n",
       "    </tr>\n",
       "    <tr>\n",
       "      <th>4</th>\n",
       "      <td>7</td>\n",
       "      <td>True</td>\n",
       "      <td>True</td>\n",
       "      <td>30</td>\n",
       "    </tr>\n",
       "    <tr>\n",
       "      <th>5</th>\n",
       "      <td>4</td>\n",
       "      <td>False</td>\n",
       "      <td>True</td>\n",
       "      <td>5</td>\n",
       "    </tr>\n",
       "    <tr>\n",
       "      <th>...</th>\n",
       "      <td>...</td>\n",
       "      <td>...</td>\n",
       "      <td>...</td>\n",
       "      <td>...</td>\n",
       "    </tr>\n",
       "    <tr>\n",
       "      <th>906</th>\n",
       "      <td>7</td>\n",
       "      <td>False</td>\n",
       "      <td>False</td>\n",
       "      <td>28</td>\n",
       "    </tr>\n",
       "    <tr>\n",
       "      <th>907</th>\n",
       "      <td>5</td>\n",
       "      <td>False</td>\n",
       "      <td>False</td>\n",
       "      <td>10</td>\n",
       "    </tr>\n",
       "    <tr>\n",
       "      <th>908</th>\n",
       "      <td>5</td>\n",
       "      <td>False</td>\n",
       "      <td>False</td>\n",
       "      <td>35</td>\n",
       "    </tr>\n",
       "    <tr>\n",
       "      <th>909</th>\n",
       "      <td>2</td>\n",
       "      <td>False</td>\n",
       "      <td>False</td>\n",
       "      <td>1</td>\n",
       "    </tr>\n",
       "    <tr>\n",
       "      <th>910</th>\n",
       "      <td>3</td>\n",
       "      <td>False</td>\n",
       "      <td>False</td>\n",
       "      <td>19</td>\n",
       "    </tr>\n",
       "  </tbody>\n",
       "</table>\n",
       "<p>822 rows × 4 columns</p>\n",
       "</div>"
      ],
      "text/plain": [
       "     random_rating accepted  submitted_arxiv  avg_h_index\n",
       "0                9     True             True           19\n",
       "1                4    False            False           10\n",
       "2                6     True             True           20\n",
       "4                7     True             True           30\n",
       "5                4    False             True            5\n",
       "..             ...      ...              ...          ...\n",
       "906              7    False            False           28\n",
       "907              5    False            False           10\n",
       "908              5    False            False           35\n",
       "909              2    False            False            1\n",
       "910              3    False            False           19\n",
       "\n",
       "[822 rows x 4 columns]"
      ]
     },
     "execution_count": 59,
     "metadata": {},
     "output_type": "execute_result"
    }
   ],
   "source": [
    "dfcopy\n"
   ]
  },
  {
   "cell_type": "code",
   "execution_count": 7,
   "metadata": {},
   "outputs": [],
   "source": [
    "# data = dowhy.datasets.linear_dataset(beta=10,\n",
    "#         num_common_causes=5,\n",
    "#         num_instruments = 2,\n",
    "#         num_treatments=1,\n",
    "#         num_samples=10000,\n",
    "#         treatment_is_binary=True,\n",
    "#         outcome_is_binary=False)"
   ]
  },
  {
   "cell_type": "code",
   "execution_count": 132,
   "metadata": {},
   "outputs": [],
   "source": [
    "# treatment = [\"avg_h_index\",\"random_rating\"]\n",
    "# outcome = [\"accepted\"]\n",
    "# data[\"instrument_names\"],\n",
    "# # logging.INFO"
   ]
  },
  {
   "cell_type": "code",
   "execution_count": null,
   "metadata": {},
   "outputs": [],
   "source": []
  },
  {
   "cell_type": "code",
   "execution_count": 61,
   "metadata": {},
   "outputs": [],
   "source": [
    "# #graph in gml format\n",
    "# graph = 'graph[directed 1node[id \"avg_h_index\" label \"Fame\"] node [id \"accepted\" label \"Accept/Reject\"] node[id \"random_rating\" label \"Paper Quality\"] node[id \"submitted_arxiv\" label \"is_Arxiv\"] edge[source \"avg_h_index\" target \"submitted_arxiv\"] edge[source \"avg_h_index\" target \"accepted\"] edge[source \"random_rating\" target \"submitted_arxiv\"] edge[source \"random_rating\" target \"accepted\"]]'"
   ]
  },
  {
   "cell_type": "code",
   "execution_count": 62,
   "metadata": {},
   "outputs": [],
   "source": [
    "#graph in gml format\n",
    "graph = 'graph[directed 1node[id \"avg_h_index\" label \"avg_h_index\"] node [id \"accepted\" label \"accepted\"] node[id \"random_rating\" label \"random_rating\"] node[id \"submitted_arxiv\" label \"submitted_arxiv\"] edge[source \"avg_h_index\" target \"submitted_arxiv\"] edge[source \"avg_h_index\" target \"accepted\"] edge[source \"random_rating\" target \"submitted_arxiv\"] edge[source \"random_rating\" target \"accepted\"]edge[source \"submitted_arxiv\" target \"accepted\"]]'"
   ]
  },
  {
   "cell_type": "code",
   "execution_count": 63,
   "metadata": {},
   "outputs": [
    {
     "name": "stdout",
     "output_type": "stream",
     "text": [
      "graph[directed 1node[id \"avg_h_index\" label \"avg_h_index\"] node [id \"accepted\" label \"accepted\"] node[id \"random_rating\" label \"random_rating\"] node[id \"submitted_arxiv\" label \"submitted_arxiv\"] edge[source \"avg_h_index\" target \"submitted_arxiv\"] edge[source \"avg_h_index\" target \"accepted\"] edge[source \"random_rating\" target \"submitted_arxiv\"] edge[source \"random_rating\" target \"accepted\"]edge[source \"submitted_arxiv\" target \"accepted\"]]\n"
     ]
    }
   ],
   "source": [
    "print(graph)"
   ]
  },
  {
   "cell_type": "code",
   "execution_count": 64,
   "metadata": {},
   "outputs": [
    {
     "data": {
      "text/plain": [
       "['avg_h_index', 'accepted', 'random_rating', 'submitted_arxiv']"
      ]
     },
     "execution_count": 64,
     "metadata": {},
     "output_type": "execute_result"
    }
   ],
   "source": [
    "G = nx.readwrite.gml.parse_gml(graph,label = 'id')\n",
    "list(G.edges)\n",
    "list(G.nodes)"
   ]
  },
  {
   "cell_type": "code",
   "execution_count": 68,
   "metadata": {},
   "outputs": [
    {
     "data": {
      "image/png": "[encoded data removed]",
      "text/plain": [
       "<Figure size 432x288 with 1 Axes>"
      ]
     },
     "metadata": {},
     "output_type": "display_data"
    }
   ],
   "source": [
    "nx.draw(G,with_labels = True)"
   ]
  },
  {
   "cell_type": "code",
   "execution_count": 67,
   "metadata": {},
   "outputs": [],
   "source": [
    "# type(data[\"treatment_name\"])\n",
    "# type(['random_rating','avg_h_index'])"
   ]
  },
  {
   "cell_type": "code",
   "execution_count": 69,
   "metadata": {},
   "outputs": [
    {
     "name": "stderr",
     "output_type": "stream",
     "text": [
      "INFO:dowhy.causal_graph:If this is observed data (not from a randomized experiment), there might always be missing confounders. Adding a node named \"Unobserved Confounders\" to reflect this.\n",
      "INFO:dowhy.causal_model:Model to find the causal effect of treatment ['submitted_arxiv'] on outcome ['accepted']\n"
     ]
    }
   ],
   "source": [
    "model = CausalModel(\n",
    "    data=dfcopy,\n",
    "    graph = graph,\n",
    "    treatment = ['submitted_arxiv'],\n",
    "    outcome = ['accepted']\n",
    ")"
   ]
  },
  {
   "cell_type": "code",
   "execution_count": 70,
   "metadata": {},
   "outputs": [
    {
     "name": "stderr",
     "output_type": "stream",
     "text": [
      "WARNING:dowhy.causal_graph:Warning: Pygraphviz cannot be loaded. Check that graphviz and pygraphviz are installed.\n",
      "INFO:dowhy.causal_graph:Using Matplotlib for plotting\n"
     ]
    },
    {
     "data": {
      "image/png": "[encoded data removed]",
      "text/plain": [
       "<Figure size 432x288 with 1 Axes>"
      ]
     },
     "metadata": {},
     "output_type": "display_data"
    }
   ],
   "source": [
    "model.view_model()"
   ]
  },
  {
   "cell_type": "code",
   "execution_count": 71,
   "metadata": {},
   "outputs": [
    {
     "name": "stderr",
     "output_type": "stream",
     "text": [
      "INFO:dowhy.causal_identifier:Common causes of treatment and outcome:['avg_h_index', 'random_rating', 'U']\n",
      "WARNING:dowhy.causal_identifier:If this is observed data (not from a randomized experiment), there might always be missing confounders. Causal effect cannot be identified perfectly.\n"
     ]
    },
    {
     "name": "stdout",
     "output_type": "stream",
     "text": [
      "WARN: Do you want to continue by ignoring any unobserved confounders? (use proceed_when_unidentifiable=True to disable this prompt) [y/n] y\n"
     ]
    },
    {
     "name": "stderr",
     "output_type": "stream",
     "text": [
      "INFO:dowhy.causal_identifier:Instrumental variables for treatment and outcome:[]\n"
     ]
    },
    {
     "name": "stdout",
     "output_type": "stream",
     "text": [
      "Estimand type: nonparametric-ate\n",
      "### Estimand : 1\n",
      "Estimand name: backdoor\n",
      "Estimand expression:\n",
      "        d                                                         \n",
      "─────────────────(Expectation(accepted|avg_h_index,random_rating))\n",
      "d[submittedₐᵣₓᵢᵥ]                                                 \n",
      "Estimand assumption 1, Unconfoundedness: If U→{submitted_arxiv} and U→accepted then P(accepted|submitted_arxiv,avg_h_index,random_rating,U) = P(accepted|submitted_arxiv,avg_h_index,random_rating)\n",
      "### Estimand : 2\n",
      "Estimand name: iv\n",
      "No such variable found!\n",
      "\n"
     ]
    }
   ],
   "source": [
    "identified_estimand = model.identify_effect()\n",
    "print(identified_estimand)"
   ]
  },
  {
   "cell_type": "code",
   "execution_count": 72,
   "metadata": {},
   "outputs": [
    {
     "name": "stderr",
     "output_type": "stream",
     "text": [
      "INFO:dowhy.causal_estimator:INFO: Using Linear Regression Estimator\n",
      "INFO:dowhy.causal_estimator:b: accepted~submitted_arxiv+avg_h_index+random_rating\n"
     ]
    },
    {
     "name": "stdout",
     "output_type": "stream",
     "text": [
      "*** Causal Estimate ***\n",
      "\n",
      "## Target estimand\n",
      "Estimand type: nonparametric-ate\n",
      "### Estimand : 1\n",
      "Estimand name: backdoor\n",
      "Estimand expression:\n",
      "        d                                                         \n",
      "─────────────────(Expectation(accepted|avg_h_index,random_rating))\n",
      "d[submittedₐᵣₓᵢᵥ]                                                 \n",
      "Estimand assumption 1, Unconfoundedness: If U→{submitted_arxiv} and U→accepted then P(accepted|submitted_arxiv,avg_h_index,random_rating,U) = P(accepted|submitted_arxiv,avg_h_index,random_rating)\n",
      "### Estimand : 2\n",
      "Estimand name: iv\n",
      "No such variable found!\n",
      "\n",
      "## Realized estimand\n",
      "b: accepted~submitted_arxiv+avg_h_index+random_rating\n",
      "## Estimate\n",
      "Value: 0.2958729753374521\n",
      "\n",
      "## Statistical Significance\n",
      "p-value: <0.001\n",
      "\n",
      "Causal Estimate is 0.2958729753374521\n"
     ]
    }
   ],
   "source": [
    "causal_estimate_reg = model.estimate_effect(identified_estimand,\n",
    "        method_name=\"backdoor.linear_regression\",\n",
    "        test_significance=True)\n",
    "print(causal_estimate_reg)\n",
    "print(\"Causal Estimate is \" + str(causal_estimate_reg.value))"
   ]
  },
  {
   "cell_type": "code",
   "execution_count": 35,
   "metadata": {},
   "outputs": [
    {
     "name": "stderr",
     "output_type": "stream",
     "text": [
      "INFO:dowhy.causal_estimator:INFO: Using Linear Regression Estimator\n",
      "INFO:dowhy.causal_estimator:b: accepted~random_rating+avg_h_index\n"
     ]
    },
    {
     "name": "stdout",
     "output_type": "stream",
     "text": [
      "*** Causal Estimate ***\n",
      "\n",
      "## Target estimand\n",
      "Estimand type: nonparametric-ate\n",
      "### Estimand : 1\n",
      "Estimand name: backdoor\n",
      "Estimand expression:\n",
      "              d                                     \n",
      "─────────────────────────────(Expectation(accepted))\n",
      "d[random_rating  avg_h_index]                       \n",
      "Estimand assumption 1, Unconfoundedness: If U→{random_rating,avg_h_index} and U→accepted then P(accepted|random_rating,avg_h_index,,U) = P(accepted|random_rating,avg_h_index,)\n",
      "### Estimand : 2\n",
      "Estimand name: iv\n",
      "No such variable found!\n",
      "\n",
      "## Realized estimand\n",
      "b: accepted~random_rating+avg_h_index\n",
      "## Estimate\n",
      "Value: 0.1698790821590082\n",
      "\n",
      "## Statistical Significance\n",
      "p-value: <0.001\n",
      "\n",
      "Causal Estimate is 0.1698790821590082\n"
     ]
    }
   ],
   "source": [
    "linear_estimate = model.estimate_effect(identified_estimand,\n",
    "        method_name=\"backdoor.linear_regression\",\n",
    "        test_significance=True)\n",
    "print(causal_estimate_reg)\n",
    "print(\"Causal Estimate is \" + str(causal_estimate_reg.value))"
   ]
  },
  {
   "cell_type": "code",
   "execution_count": 73,
   "metadata": {},
   "outputs": [
    {
     "name": "stderr",
     "output_type": "stream",
     "text": [
      "INFO:dowhy.causal_estimator:INFO: Using EconML Estimator\n",
      "INFO:dowhy.causal_estimator:b: accepted~submitted_arxiv+avg_h_index+random_rating\n",
      "/usr/local/lib/python3.7/site-packages/sklearn/ensemble/_gb.py:1454: DataConversionWarning: A column-vector y was passed when a 1d array was expected. Please change the shape of y to (n_samples, ), for example using ravel().\n",
      "  y = column_or_1d(y, warn=True)\n",
      "/usr/local/lib/python3.7/site-packages/sklearn/ensemble/_gb.py:1454: DataConversionWarning: A column-vector y was passed when a 1d array was expected. Please change the shape of y to (n_samples, ), for example using ravel().\n",
      "  y = column_or_1d(y, warn=True)\n"
     ]
    },
    {
     "name": "stdout",
     "output_type": "stream",
     "text": [
      "*** Causal Estimate ***\n",
      "\n",
      "## Target estimand\n",
      "Estimand type: nonparametric-ate\n",
      "### Estimand : 1\n",
      "Estimand name: backdoor\n",
      "Estimand expression:\n",
      "        d                                                         \n",
      "─────────────────(Expectation(accepted|avg_h_index,random_rating))\n",
      "d[submittedₐᵣₓᵢᵥ]                                                 \n",
      "Estimand assumption 1, Unconfoundedness: If U→{submitted_arxiv} and U→accepted then P(accepted|submitted_arxiv,avg_h_index,random_rating,U) = P(accepted|submitted_arxiv,avg_h_index,random_rating)\n",
      "### Estimand : 2\n",
      "Estimand name: iv\n",
      "No such variable found!\n",
      "\n",
      "## Realized estimand\n",
      "b: accepted~submitted_arxiv+avg_h_index+random_rating\n",
      "## Estimate\n",
      "Value: 0.2850883521499289\n",
      "\n"
     ]
    },
    {
     "name": "stderr",
     "output_type": "stream",
     "text": [
      "/usr/local/lib/python3.7/site-packages/econml/dml.py:163: UserWarning: The final model has a nonzero intercept for at least one outcome; it will be subtracted, but consider fitting a model without an intercept if possible.\n",
      "  UserWarning)\n"
     ]
    }
   ],
   "source": [
    "from sklearn.preprocessing import PolynomialFeatures\n",
    "from sklearn.linear_model import LassoCV\n",
    "import sklearn.ensemble\n",
    "dml_estimate = model.estimate_effect(identified_estimand, method_name=\"backdoor.econml.dml.DMLCateEstimator\",\n",
    "                                     control_value = 0,\n",
    "                                     treatment_value = 1,\n",
    "                                 target_units = lambda df: df[\"avg_h_index\"]>1,  # condition used for CATE\n",
    "                                 confidence_intervals=False,\n",
    "                                method_params={\"init_params\":{'model_y':GradientBoostingRegressor(),\n",
    "                                                              'model_t': GradientBoostingRegressor(),\n",
    "                                                              \"model_final\":LassoCV(),\n",
    "                                                              'featurizer':PolynomialFeatures(degree=1, include_bias=True)},\n",
    "                                               \"fit_params\":{}})\n",
    "print(dml_estimate)"
   ]
  },
  {
   "cell_type": "code",
   "execution_count": 74,
   "metadata": {},
   "outputs": [
    {
     "name": "stderr",
     "output_type": "stream",
     "text": [
      "INFO:dowhy.causal_estimator:INFO: Using EconML Estimator\n",
      "INFO:dowhy.causal_estimator:b: accepted~submitted_arxiv+avg_h_index+random_rating\n",
      "/usr/local/lib/python3.7/site-packages/sklearn/ensemble/_gb.py:1454: DataConversionWarning: A column-vector y was passed when a 1d array was expected. Please change the shape of y to (n_samples, ), for example using ravel().\n",
      "  y = column_or_1d(y, warn=True)\n",
      "/usr/local/lib/python3.7/site-packages/sklearn/ensemble/_gb.py:1454: DataConversionWarning: A column-vector y was passed when a 1d array was expected. Please change the shape of y to (n_samples, ), for example using ravel().\n",
      "  y = column_or_1d(y, warn=True)\n"
     ]
    },
    {
     "name": "stdout",
     "output_type": "stream",
     "text": [
      "*** Causal Estimate ***\n",
      "\n",
      "## Target estimand\n",
      "Estimand type: nonparametric-ate\n",
      "### Estimand : 1\n",
      "Estimand name: backdoor\n",
      "Estimand expression:\n",
      "        d                                                         \n",
      "─────────────────(Expectation(accepted|avg_h_index,random_rating))\n",
      "d[submittedₐᵣₓᵢᵥ]                                                 \n",
      "Estimand assumption 1, Unconfoundedness: If U→{submitted_arxiv} and U→accepted then P(accepted|submitted_arxiv,avg_h_index,random_rating,U) = P(accepted|submitted_arxiv,avg_h_index,random_rating)\n",
      "### Estimand : 2\n",
      "Estimand name: iv\n",
      "No such variable found!\n",
      "\n",
      "## Realized estimand\n",
      "b: accepted~submitted_arxiv+avg_h_index+random_rating\n",
      "## Estimate\n",
      "Value: 0.27636900468213355\n",
      "\n"
     ]
    },
    {
     "name": "stderr",
     "output_type": "stream",
     "text": [
      "/usr/local/lib/python3.7/site-packages/econml/dml.py:163: UserWarning: The final model has a nonzero intercept for at least one outcome; it will be subtracted, but consider fitting a model without an intercept if possible.\n",
      "  UserWarning)\n"
     ]
    }
   ],
   "source": [
    "dml_estimate = model.estimate_effect(identified_estimand, method_name=\"backdoor.econml.dml.DMLCateEstimator\",\n",
    "                                     control_value = 0,\n",
    "                                     treatment_value = 1,\n",
    "                                 target_units = 1,  # condition used for CATE\n",
    "                                 confidence_intervals=False,\n",
    "                                method_params={\"init_params\":{'model_y':GradientBoostingRegressor(),\n",
    "                                                              'model_t': GradientBoostingRegressor(),\n",
    "                                                              \"model_final\":LassoCV(),\n",
    "                                                              'featurizer':PolynomialFeatures(degree=1, include_bias=True)},\n",
    "                                               \"fit_params\":{}})\n",
    "print(dml_estimate)"
   ]
  },
  {
   "cell_type": "code",
   "execution_count": null,
   "metadata": {},
   "outputs": [],
   "source": []
  }
 ],
 "metadata": {
  "kernelspec": {
   "display_name": "Python 3.7.7 64-bit",
   "language": "python",
   "name": "python37764bit0f5b471b5855407990a4385d31e4faea"
  },
  "language_info": {
   "codemirror_mode": {
    "name": "ipython",
    "version": 3
   },
   "file_extension": ".py",
   "mimetype": "text/x-python",
   "name": "python",
   "nbconvert_exporter": "python",
   "pygments_lexer": "ipython3",
   "version": "3.7.7"
  }
 },
 "nbformat": 4,
 "nbformat_minor": 4
}
